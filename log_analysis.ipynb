{
 "cells": [
  {
   "cell_type": "code",
   "execution_count": 1,
   "metadata": {},
   "outputs": [],
   "source": [
    "import numpy as np\n",
    "import matplotlib.pyplot as plt\n",
    "import collections\n",
    "import pandas as pd\n",
    "import seaborn as sns\n",
    "\n",
    "import csp_problems\n",
    "import parser\n",
    "import constraint\n",
    "import os"
   ]
  },
  {
   "cell_type": "code",
   "execution_count": 2,
   "metadata": {},
   "outputs": [],
   "source": [
    "path = 'logs/'\n",
    "# filenames = os.listdir(path)"
   ]
  },
  {
   "cell_type": "code",
   "execution_count": 147,
   "metadata": {},
   "outputs": [],
   "source": [
    "def decompose_filename(filename):\n",
    "    info = {}\n",
    "    decomp = filename.split('.')[0].split('_')\n",
    "    info['solver'] = decomp.pop(0)\n",
    "    info['problem_type'] = decomp.pop(0)\n",
    "    info['problem_instance'] = '_'.join(decomp)\n",
    "    info['filename'] = filename\n",
    "    return info\n",
    "\n",
    "def parse_info_filename(path, filename):\n",
    "    with open(os.path.join(path, filename)) as file:\n",
    "        input_data = file.read()\n",
    "    lines = input_data.split('\\n')[:-1]\n",
    "    lines_type = [line.split('-')[0] for line in lines]\n",
    "    calls = collections.Counter(lines_type)\n",
    "    return calls\n",
    "\n",
    "def get_dataframe(path):\n",
    "    filenames = [f for f in os.listdir(path) if os.path.isfile(os.path.join(path, f))]\n",
    "    infos = []\n",
    "    for filename in filenames:\n",
    "        if 'nrpa-1-100-heur-old' not in filename:\n",
    "            info = decompose_filename(filename)\n",
    "            calls = parse_info_filename(path, filename)\n",
    "            infos.append({**info, **calls})\n",
    "    return pd.DataFrame(infos)"
   ]
  },
  {
   "cell_type": "code",
   "execution_count": 148,
   "metadata": {},
   "outputs": [],
   "source": [
    "def get_result_dataframe(filename, path='results'):\n",
    "    with open(os.path.join(path,filename)) as file:\n",
    "        data = file.read()\n",
    "    filename_info = filename.split('.')[0].split('_')\n",
    "    df = pd.read_json(data[:-1].replace(\"'\", '\"').replace('True', '\"True\"').replace('False', '\"False\"'), lines=True)\n",
    "    df = df.replace({'solved': {'True': True, 'False': False}}).astype({'time':np.float32, 'solved':'bool'})\n",
    "    df['problem']=filename_info[-2]\n",
    "    df = df.loc[df['solver']!='nrpa-1-100-heur-old']\n",
    "    return df\n",
    "\n",
    "def get_result_dataframes(path='results'):\n",
    "    filenames = [f for f in os.listdir(path) if os.path.isfile(os.path.join(path, f))]\n",
    "    df = pd.concat([get_result_dataframe(filename, path) for filename in filenames], axis=0)\n",
    "    return df"
   ]
  },
  {
   "cell_type": "code",
   "execution_count": 226,
   "metadata": {},
   "outputs": [],
   "source": [
    "df = get_dataframe(path)\n",
    "df.loc[df['problem_instance'].apply(lambda x: x.startswith('nqueens')), 'problem_instance'] = df.loc[df['problem_instance'].apply(lambda x: x.startswith('nqueens')), 'problem_instance'].apply(lambda x: x.split('_')[-1])\n",
    "df.loc[df['problem_type'].apply(lambda x: x.startswith('nqueens')), 'problem_instance'] = df.loc[df['problem_type'].apply(lambda x: x.startswith('nqueens')), 'problem_type'] + '_' + df.loc[df['problem_type'].apply(lambda x: x.startswith('nqueens')), 'problem_instance']\n",
    "\n",
    "results = get_result_dataframes()\n",
    "results = results.rename(columns = {'filename':'problem_instance', 'problem':'problem_type'})\n",
    "results = results.loc[results['solver']!='backtracking']\n",
    "results.loc[results['problem_type']=='sudoku', 'problem_instance'] = results.loc[results['problem_type']=='sudoku', 'problem_instance'].apply(lambda x:'_'.join(list(str(x))))\n",
    "results.loc[results['problem_instance'].apply(lambda x: x.startswith('nqueens')), 'problem_instance'] = results.loc[results['problem_instance'].apply(lambda x: x.startswith('nqueens')), 'problem_instance'].apply(lambda x: x.split('_')[-1])\n",
    "results.loc[results['problem_type'].apply(lambda x: x.startswith('nqueens')), 'problem_instance'] = results.loc[results['problem_type'].apply(lambda x: x.startswith('nqueens')), 'problem_type'] + '_' + results.loc[results['problem_type'].apply(lambda x: x.startswith('nqueens')), 'problem_instance']"
   ]
  },
  {
   "cell_type": "code",
   "execution_count": 262,
   "metadata": {},
   "outputs": [],
   "source": [
    "df = df.merge(results, how='outer', on=['solver', 'problem_type', 'problem_instance'])"
   ]
  },
  {
   "cell_type": "code",
   "execution_count": 263,
   "metadata": {},
   "outputs": [
    {
     "data": {
      "text/plain": [
       "coloring              72\n",
       "sudoku                60\n",
       "nqueens               24\n",
       "nqueens-sym-simple    16\n",
       "nqueens-sym           16\n",
       "Name: problem_type, dtype: int64"
      ]
     },
     "execution_count": 263,
     "metadata": {},
     "output_type": "execute_result"
    }
   ],
   "source": [
    "df['problem_type'].value_counts()"
   ]
  },
  {
   "cell_type": "code",
   "execution_count": 264,
   "metadata": {},
   "outputs": [
    {
     "data": {
      "text/plain": [
       "nmcs-1             90\n",
       "nrpa-1-100-heur    90\n",
       "nmcs-2              8\n",
       "Name: solver, dtype: int64"
      ]
     },
     "execution_count": 264,
     "metadata": {},
     "output_type": "execute_result"
    }
   ],
   "source": [
    "df['solver'].value_counts()"
   ]
  },
  {
   "cell_type": "code",
   "execution_count": 265,
   "metadata": {},
   "outputs": [],
   "source": [
    "metrics = [col for col in df.columns if col.startswith('DEBUG')]"
   ]
  },
  {
   "cell_type": "code",
   "execution_count": 266,
   "metadata": {},
   "outputs": [
    {
     "data": {
      "text/html": [
       "<div>\n",
       "<style scoped>\n",
       "    .dataframe tbody tr th:only-of-type {\n",
       "        vertical-align: middle;\n",
       "    }\n",
       "\n",
       "    .dataframe tbody tr th {\n",
       "        vertical-align: top;\n",
       "    }\n",
       "\n",
       "    .dataframe thead th {\n",
       "        text-align: right;\n",
       "    }\n",
       "</style>\n",
       "<table border=\"1\" class=\"dataframe\">\n",
       "  <thead>\n",
       "    <tr style=\"text-align: right;\">\n",
       "      <th></th>\n",
       "      <th>solver</th>\n",
       "      <th>problem_type</th>\n",
       "      <th>problem_instance</th>\n",
       "      <th>filename</th>\n",
       "      <th>DEBUG:root:nmcs call</th>\n",
       "      <th>DEBUG:root:assign</th>\n",
       "      <th>DEBUG:root:playout</th>\n",
       "      <th>DEBUG:root:end playout negative</th>\n",
       "      <th>DEBUG:root:end playout positive</th>\n",
       "      <th>time</th>\n",
       "      <th>solved</th>\n",
       "    </tr>\n",
       "  </thead>\n",
       "  <tbody>\n",
       "  </tbody>\n",
       "</table>\n",
       "</div>"
      ],
      "text/plain": [
       "Empty DataFrame\n",
       "Columns: [solver, problem_type, problem_instance, filename, DEBUG:root:nmcs call, DEBUG:root:assign, DEBUG:root:playout, DEBUG:root:end playout negative, DEBUG:root:end playout positive, time, solved]\n",
       "Index: []"
      ]
     },
     "execution_count": 266,
     "metadata": {},
     "output_type": "execute_result"
    }
   ],
   "source": [
    "df.loc[df['DEBUG:root:end playout positive']>1]"
   ]
  },
  {
   "cell_type": "code",
   "execution_count": 267,
   "metadata": {},
   "outputs": [
    {
     "data": {
      "text/html": [
       "<div>\n",
       "<style scoped>\n",
       "    .dataframe tbody tr th:only-of-type {\n",
       "        vertical-align: middle;\n",
       "    }\n",
       "\n",
       "    .dataframe tbody tr th {\n",
       "        vertical-align: top;\n",
       "    }\n",
       "\n",
       "    .dataframe thead th {\n",
       "        text-align: right;\n",
       "    }\n",
       "</style>\n",
       "<table border=\"1\" class=\"dataframe\">\n",
       "  <thead>\n",
       "    <tr style=\"text-align: right;\">\n",
       "      <th></th>\n",
       "      <th></th>\n",
       "      <th>DEBUG:root:nmcs call</th>\n",
       "      <th>DEBUG:root:assign</th>\n",
       "      <th>DEBUG:root:playout</th>\n",
       "      <th>DEBUG:root:end playout negative</th>\n",
       "      <th>DEBUG:root:end playout positive</th>\n",
       "    </tr>\n",
       "    <tr>\n",
       "      <th>problem_type</th>\n",
       "      <th>solver</th>\n",
       "      <th></th>\n",
       "      <th></th>\n",
       "      <th></th>\n",
       "      <th></th>\n",
       "      <th></th>\n",
       "    </tr>\n",
       "  </thead>\n",
       "  <tbody>\n",
       "    <tr>\n",
       "      <th rowspan=\"2\" valign=\"top\">coloring</th>\n",
       "      <th>nmcs-1</th>\n",
       "      <td>897661.0</td>\n",
       "      <td>897625.0</td>\n",
       "      <td>897625</td>\n",
       "      <td>897595.0</td>\n",
       "      <td>11.0</td>\n",
       "    </tr>\n",
       "    <tr>\n",
       "      <th>nrpa-1-100-heur</th>\n",
       "      <td>0.0</td>\n",
       "      <td>0.0</td>\n",
       "      <td>25472</td>\n",
       "      <td>25453.0</td>\n",
       "      <td>17.0</td>\n",
       "    </tr>\n",
       "    <tr>\n",
       "      <th rowspan=\"2\" valign=\"top\">nqueens</th>\n",
       "      <th>nmcs-1</th>\n",
       "      <td>68.0</td>\n",
       "      <td>60.0</td>\n",
       "      <td>60</td>\n",
       "      <td>52.0</td>\n",
       "      <td>8.0</td>\n",
       "    </tr>\n",
       "    <tr>\n",
       "      <th>nrpa-1-100-heur</th>\n",
       "      <td>0.0</td>\n",
       "      <td>0.0</td>\n",
       "      <td>38</td>\n",
       "      <td>30.0</td>\n",
       "      <td>8.0</td>\n",
       "    </tr>\n",
       "    <tr>\n",
       "      <th rowspan=\"2\" valign=\"top\">nqueens-sym</th>\n",
       "      <th>nmcs-1</th>\n",
       "      <td>543.0</td>\n",
       "      <td>535.0</td>\n",
       "      <td>535</td>\n",
       "      <td>527.0</td>\n",
       "      <td>6.0</td>\n",
       "    </tr>\n",
       "    <tr>\n",
       "      <th>nrpa-1-100-heur</th>\n",
       "      <td>0.0</td>\n",
       "      <td>0.0</td>\n",
       "      <td>1341</td>\n",
       "      <td>1334.0</td>\n",
       "      <td>7.0</td>\n",
       "    </tr>\n",
       "    <tr>\n",
       "      <th rowspan=\"2\" valign=\"top\">nqueens-sym-simple</th>\n",
       "      <th>nmcs-1</th>\n",
       "      <td>60.0</td>\n",
       "      <td>52.0</td>\n",
       "      <td>52</td>\n",
       "      <td>44.0</td>\n",
       "      <td>8.0</td>\n",
       "    </tr>\n",
       "    <tr>\n",
       "      <th>nrpa-1-100-heur</th>\n",
       "      <td>0.0</td>\n",
       "      <td>0.0</td>\n",
       "      <td>73</td>\n",
       "      <td>65.0</td>\n",
       "      <td>8.0</td>\n",
       "    </tr>\n",
       "    <tr>\n",
       "      <th rowspan=\"2\" valign=\"top\">sudoku</th>\n",
       "      <th>nmcs-1</th>\n",
       "      <td>232747.0</td>\n",
       "      <td>232717.0</td>\n",
       "      <td>232717</td>\n",
       "      <td>232694.0</td>\n",
       "      <td>17.0</td>\n",
       "    </tr>\n",
       "    <tr>\n",
       "      <th>nrpa-1-100-heur</th>\n",
       "      <td>0.0</td>\n",
       "      <td>0.0</td>\n",
       "      <td>12675</td>\n",
       "      <td>12655.0</td>\n",
       "      <td>19.0</td>\n",
       "    </tr>\n",
       "  </tbody>\n",
       "</table>\n",
       "</div>"
      ],
      "text/plain": [
       "                                    DEBUG:root:nmcs call  DEBUG:root:assign  \\\n",
       "problem_type       solver                                                     \n",
       "coloring           nmcs-1                       897661.0           897625.0   \n",
       "                   nrpa-1-100-heur                   0.0                0.0   \n",
       "nqueens            nmcs-1                           68.0               60.0   \n",
       "                   nrpa-1-100-heur                   0.0                0.0   \n",
       "nqueens-sym        nmcs-1                          543.0              535.0   \n",
       "                   nrpa-1-100-heur                   0.0                0.0   \n",
       "nqueens-sym-simple nmcs-1                           60.0               52.0   \n",
       "                   nrpa-1-100-heur                   0.0                0.0   \n",
       "sudoku             nmcs-1                       232747.0           232717.0   \n",
       "                   nrpa-1-100-heur                   0.0                0.0   \n",
       "\n",
       "                                    DEBUG:root:playout  \\\n",
       "problem_type       solver                                \n",
       "coloring           nmcs-1                       897625   \n",
       "                   nrpa-1-100-heur               25472   \n",
       "nqueens            nmcs-1                           60   \n",
       "                   nrpa-1-100-heur                  38   \n",
       "nqueens-sym        nmcs-1                          535   \n",
       "                   nrpa-1-100-heur                1341   \n",
       "nqueens-sym-simple nmcs-1                           52   \n",
       "                   nrpa-1-100-heur                  73   \n",
       "sudoku             nmcs-1                       232717   \n",
       "                   nrpa-1-100-heur               12675   \n",
       "\n",
       "                                    DEBUG:root:end playout negative  \\\n",
       "problem_type       solver                                             \n",
       "coloring           nmcs-1                                  897595.0   \n",
       "                   nrpa-1-100-heur                          25453.0   \n",
       "nqueens            nmcs-1                                      52.0   \n",
       "                   nrpa-1-100-heur                             30.0   \n",
       "nqueens-sym        nmcs-1                                     527.0   \n",
       "                   nrpa-1-100-heur                           1334.0   \n",
       "nqueens-sym-simple nmcs-1                                      44.0   \n",
       "                   nrpa-1-100-heur                             65.0   \n",
       "sudoku             nmcs-1                                  232694.0   \n",
       "                   nrpa-1-100-heur                          12655.0   \n",
       "\n",
       "                                    DEBUG:root:end playout positive  \n",
       "problem_type       solver                                            \n",
       "coloring           nmcs-1                                      11.0  \n",
       "                   nrpa-1-100-heur                             17.0  \n",
       "nqueens            nmcs-1                                       8.0  \n",
       "                   nrpa-1-100-heur                              8.0  \n",
       "nqueens-sym        nmcs-1                                       6.0  \n",
       "                   nrpa-1-100-heur                              7.0  \n",
       "nqueens-sym-simple nmcs-1                                       8.0  \n",
       "                   nrpa-1-100-heur                              8.0  \n",
       "sudoku             nmcs-1                                      17.0  \n",
       "                   nrpa-1-100-heur                             19.0  "
      ]
     },
     "execution_count": 267,
     "metadata": {},
     "output_type": "execute_result"
    }
   ],
   "source": [
    "df.loc[df['solver'].isin(['nrpa-1-100-heur', 'nmcs-1'])].groupby(['problem_type', 'solver'])[metrics].sum()"
   ]
  },
  {
   "cell_type": "code",
   "execution_count": 268,
   "metadata": {},
   "outputs": [
    {
     "data": {
      "text/plain": [
       "<matplotlib.collections.PathCollection at 0x7f9168939d10>"
      ]
     },
     "execution_count": 268,
     "metadata": {},
     "output_type": "execute_result"
    },
    {
     "data": {
      "image/png": "[encoded data removed]",
      "text/plain": [
       "<Figure size 432x288 with 1 Axes>"
      ]
     },
     "metadata": {
      "needs_background": "light"
     },
     "output_type": "display_data"
    }
   ],
   "source": [
    "plt.scatter(df.loc[df['solver']=='nmcs-1', 'time'], df.loc[df['solver']=='nmcs-1', 'DEBUG:root:playout'])"
   ]
  },
  {
   "cell_type": "code",
   "execution_count": 269,
   "metadata": {},
   "outputs": [
    {
     "data": {
      "text/plain": [
       "<matplotlib.collections.PathCollection at 0x7f91654c8f10>"
      ]
     },
     "execution_count": 269,
     "metadata": {},
     "output_type": "execute_result"
    },
    {
     "data": {
      "image/png": "[encoded data removed]",
      "text/plain": [
       "<Figure size 432x288 with 1 Axes>"
      ]
     },
     "metadata": {
      "needs_background": "light"
     },
     "output_type": "display_data"
    }
   ],
   "source": [
    "plt.scatter(df.loc[df['solver']=='nrpa-1-100-heur', 'time'], df.loc[df['solver']=='nmcs-1', 'DEBUG:root:playout'])"
   ]
  },
  {
   "cell_type": "markdown",
   "metadata": {},
   "source": [
    "### Nb of playouts"
   ]
  },
  {
   "cell_type": "code",
   "execution_count": 283,
   "metadata": {},
   "outputs": [
    {
     "data": {
      "text/html": [
       "<div>\n",
       "<style scoped>\n",
       "    .dataframe tbody tr th:only-of-type {\n",
       "        vertical-align: middle;\n",
       "    }\n",
       "\n",
       "    .dataframe tbody tr th {\n",
       "        vertical-align: top;\n",
       "    }\n",
       "\n",
       "    .dataframe thead th {\n",
       "        text-align: right;\n",
       "    }\n",
       "</style>\n",
       "<table border=\"1\" class=\"dataframe\">\n",
       "  <thead>\n",
       "    <tr style=\"text-align: right;\">\n",
       "      <th></th>\n",
       "      <th>DEBUG:root:nmcs call</th>\n",
       "      <th>DEBUG:root:assign</th>\n",
       "      <th>DEBUG:root:playout</th>\n",
       "      <th>DEBUG:root:end playout negative</th>\n",
       "      <th>DEBUG:root:end playout positive</th>\n",
       "    </tr>\n",
       "    <tr>\n",
       "      <th>solver</th>\n",
       "      <th></th>\n",
       "      <th></th>\n",
       "      <th></th>\n",
       "      <th></th>\n",
       "      <th></th>\n",
       "    </tr>\n",
       "  </thead>\n",
       "  <tbody>\n",
       "    <tr>\n",
       "      <th>nmcs-1</th>\n",
       "      <td>12567.544444</td>\n",
       "      <td>12566.544444</td>\n",
       "      <td>12566.544444</td>\n",
       "      <td>14880.421053</td>\n",
       "      <td>1.0</td>\n",
       "    </tr>\n",
       "    <tr>\n",
       "      <th>nrpa-1-100-heur</th>\n",
       "      <td>NaN</td>\n",
       "      <td>NaN</td>\n",
       "      <td>439.988889</td>\n",
       "      <td>500.468354</td>\n",
       "      <td>1.0</td>\n",
       "    </tr>\n",
       "  </tbody>\n",
       "</table>\n",
       "</div>"
      ],
      "text/plain": [
       "                 DEBUG:root:nmcs call  DEBUG:root:assign  DEBUG:root:playout  \\\n",
       "solver                                                                         \n",
       "nmcs-1                   12567.544444       12566.544444        12566.544444   \n",
       "nrpa-1-100-heur                   NaN                NaN          439.988889   \n",
       "\n",
       "                 DEBUG:root:end playout negative  \\\n",
       "solver                                             \n",
       "nmcs-1                              14880.421053   \n",
       "nrpa-1-100-heur                       500.468354   \n",
       "\n",
       "                 DEBUG:root:end playout positive  \n",
       "solver                                            \n",
       "nmcs-1                                       1.0  \n",
       "nrpa-1-100-heur                              1.0  "
      ]
     },
     "execution_count": 283,
     "metadata": {},
     "output_type": "execute_result"
    }
   ],
   "source": [
    "grouped = df.loc[df['solver'].isin(['nrpa-1-100-heur', 'nmcs-1'])].groupby(['solver'])[metrics].mean()#.plot.bar()\n",
    "grouped"
   ]
  },
  {
   "cell_type": "code",
   "execution_count": 284,
   "metadata": {},
   "outputs": [
    {
     "data": {
      "text/html": [
       "<div>\n",
       "<style scoped>\n",
       "    .dataframe tbody tr th:only-of-type {\n",
       "        vertical-align: middle;\n",
       "    }\n",
       "\n",
       "    .dataframe tbody tr th {\n",
       "        vertical-align: top;\n",
       "    }\n",
       "\n",
       "    .dataframe thead th {\n",
       "        text-align: right;\n",
       "    }\n",
       "</style>\n",
       "<table border=\"1\" class=\"dataframe\">\n",
       "  <thead>\n",
       "    <tr style=\"text-align: right;\">\n",
       "      <th></th>\n",
       "      <th>solver</th>\n",
       "      <th>mean</th>\n",
       "    </tr>\n",
       "    <tr>\n",
       "      <th>log_type</th>\n",
       "      <th></th>\n",
       "      <th></th>\n",
       "    </tr>\n",
       "  </thead>\n",
       "  <tbody>\n",
       "    <tr>\n",
       "      <th>DEBUG:root:nmcs call</th>\n",
       "      <td>nmcs-1</td>\n",
       "      <td>12567.544444</td>\n",
       "    </tr>\n",
       "    <tr>\n",
       "      <th>DEBUG:root:assign</th>\n",
       "      <td>nmcs-1</td>\n",
       "      <td>12566.544444</td>\n",
       "    </tr>\n",
       "    <tr>\n",
       "      <th>DEBUG:root:playout</th>\n",
       "      <td>nmcs-1</td>\n",
       "      <td>12566.544444</td>\n",
       "    </tr>\n",
       "    <tr>\n",
       "      <th>DEBUG:root:end playout negative</th>\n",
       "      <td>nmcs-1</td>\n",
       "      <td>14880.421053</td>\n",
       "    </tr>\n",
       "    <tr>\n",
       "      <th>DEBUG:root:end playout positive</th>\n",
       "      <td>nmcs-1</td>\n",
       "      <td>1.000000</td>\n",
       "    </tr>\n",
       "    <tr>\n",
       "      <th>DEBUG:root:playout</th>\n",
       "      <td>nrpa-1-100-heur</td>\n",
       "      <td>439.988889</td>\n",
       "    </tr>\n",
       "    <tr>\n",
       "      <th>DEBUG:root:end playout negative</th>\n",
       "      <td>nrpa-1-100-heur</td>\n",
       "      <td>500.468354</td>\n",
       "    </tr>\n",
       "    <tr>\n",
       "      <th>DEBUG:root:end playout positive</th>\n",
       "      <td>nrpa-1-100-heur</td>\n",
       "      <td>1.000000</td>\n",
       "    </tr>\n",
       "  </tbody>\n",
       "</table>\n",
       "</div>"
      ],
      "text/plain": [
       "                                          solver          mean\n",
       "log_type                                                      \n",
       "DEBUG:root:nmcs call                      nmcs-1  12567.544444\n",
       "DEBUG:root:assign                         nmcs-1  12566.544444\n",
       "DEBUG:root:playout                        nmcs-1  12566.544444\n",
       "DEBUG:root:end playout negative           nmcs-1  14880.421053\n",
       "DEBUG:root:end playout positive           nmcs-1      1.000000\n",
       "DEBUG:root:playout               nrpa-1-100-heur    439.988889\n",
       "DEBUG:root:end playout negative  nrpa-1-100-heur    500.468354\n",
       "DEBUG:root:end playout positive  nrpa-1-100-heur      1.000000"
      ]
     },
     "execution_count": 284,
     "metadata": {},
     "output_type": "execute_result"
    }
   ],
   "source": [
    "grouped.stack().reset_index().rename(columns = {'level_1':'log_type', 0:'mean'}).set_index('log_type')"
   ]
  },
  {
   "cell_type": "code",
   "execution_count": 287,
   "metadata": {},
   "outputs": [
    {
     "data": {
      "image/png": "[encoded data removed]",
      "text/plain": [
       "<Figure size 1080x360 with 1 Axes>"
      ]
     },
     "metadata": {
      "needs_background": "light"
     },
     "output_type": "display_data"
    }
   ],
   "source": [
    "plt.figure(figsize=(15,5))\n",
    "sns.barplot(x='log_type', y='sum', data=grouped.stack().reset_index().rename(columns = {'level_1':'log_type', 0:'sum'}), hue='solver')\n",
    "plt.ylabel('nb of calls')\n",
    "plt.title('Nb of calls for in the log, for all problem instances')\n",
    "\n",
    "plt.tight_layout()\n",
    "plt.savefig('log_calls_all_instances.png')\n",
    "plt.show()"
   ]
  },
  {
   "cell_type": "markdown",
   "metadata": {},
   "source": [
    "### Nb of playouts for solved instances"
   ]
  },
  {
   "cell_type": "code",
   "execution_count": 288,
   "metadata": {},
   "outputs": [
    {
     "data": {
      "text/html": [
       "<div>\n",
       "<style scoped>\n",
       "    .dataframe tbody tr th:only-of-type {\n",
       "        vertical-align: middle;\n",
       "    }\n",
       "\n",
       "    .dataframe tbody tr th {\n",
       "        vertical-align: top;\n",
       "    }\n",
       "\n",
       "    .dataframe thead th {\n",
       "        text-align: right;\n",
       "    }\n",
       "</style>\n",
       "<table border=\"1\" class=\"dataframe\">\n",
       "  <thead>\n",
       "    <tr style=\"text-align: right;\">\n",
       "      <th></th>\n",
       "      <th>DEBUG:root:nmcs call</th>\n",
       "      <th>DEBUG:root:assign</th>\n",
       "      <th>DEBUG:root:playout</th>\n",
       "      <th>DEBUG:root:end playout negative</th>\n",
       "      <th>DEBUG:root:end playout positive</th>\n",
       "    </tr>\n",
       "    <tr>\n",
       "      <th>solver</th>\n",
       "      <th></th>\n",
       "      <th></th>\n",
       "      <th></th>\n",
       "      <th></th>\n",
       "      <th></th>\n",
       "    </tr>\n",
       "  </thead>\n",
       "  <tbody>\n",
       "    <tr>\n",
       "      <th>nmcs-1</th>\n",
       "      <td>1985.693878</td>\n",
       "      <td>1984.693878</td>\n",
       "      <td>1984.693878</td>\n",
       "      <td>2777.171429</td>\n",
       "      <td>1.0</td>\n",
       "    </tr>\n",
       "    <tr>\n",
       "      <th>nrpa-1-100-heur</th>\n",
       "      <td>NaN</td>\n",
       "      <td>NaN</td>\n",
       "      <td>107.693878</td>\n",
       "      <td>137.578947</td>\n",
       "      <td>1.0</td>\n",
       "    </tr>\n",
       "  </tbody>\n",
       "</table>\n",
       "</div>"
      ],
      "text/plain": [
       "                 DEBUG:root:nmcs call  DEBUG:root:assign  DEBUG:root:playout  \\\n",
       "solver                                                                         \n",
       "nmcs-1                    1985.693878        1984.693878         1984.693878   \n",
       "nrpa-1-100-heur                   NaN                NaN          107.693878   \n",
       "\n",
       "                 DEBUG:root:end playout negative  \\\n",
       "solver                                             \n",
       "nmcs-1                               2777.171429   \n",
       "nrpa-1-100-heur                       137.578947   \n",
       "\n",
       "                 DEBUG:root:end playout positive  \n",
       "solver                                            \n",
       "nmcs-1                                       1.0  \n",
       "nrpa-1-100-heur                              1.0  "
      ]
     },
     "execution_count": 288,
     "metadata": {},
     "output_type": "execute_result"
    }
   ],
   "source": [
    "grouped = df.loc[df['solver'].isin(['nrpa-1-100-heur', 'nmcs-1']), ['solver', 'problem_instance', 'solved']].pivot(index='problem_instance', columns='solver', values='solved')\n",
    "solved_indices = grouped[grouped.all(axis=1)].index\n",
    "\n",
    "grouped = df.loc[(df['solver'].isin(['nrpa-1-100-heur', 'nmcs-1'])) & df['problem_instance'].isin(solved_indices)].groupby(['solver'])[metrics].mean()#.plot.bar()\n",
    "grouped"
   ]
  },
  {
   "cell_type": "code",
   "execution_count": 289,
   "metadata": {},
   "outputs": [
    {
     "data": {
      "text/html": [
       "<div>\n",
       "<style scoped>\n",
       "    .dataframe tbody tr th:only-of-type {\n",
       "        vertical-align: middle;\n",
       "    }\n",
       "\n",
       "    .dataframe tbody tr th {\n",
       "        vertical-align: top;\n",
       "    }\n",
       "\n",
       "    .dataframe thead th {\n",
       "        text-align: right;\n",
       "    }\n",
       "</style>\n",
       "<table border=\"1\" class=\"dataframe\">\n",
       "  <thead>\n",
       "    <tr style=\"text-align: right;\">\n",
       "      <th></th>\n",
       "      <th>solver</th>\n",
       "      <th>mean</th>\n",
       "    </tr>\n",
       "    <tr>\n",
       "      <th>log_type</th>\n",
       "      <th></th>\n",
       "      <th></th>\n",
       "    </tr>\n",
       "  </thead>\n",
       "  <tbody>\n",
       "    <tr>\n",
       "      <th>DEBUG:root:nmcs call</th>\n",
       "      <td>nmcs-1</td>\n",
       "      <td>1985.693878</td>\n",
       "    </tr>\n",
       "    <tr>\n",
       "      <th>DEBUG:root:assign</th>\n",
       "      <td>nmcs-1</td>\n",
       "      <td>1984.693878</td>\n",
       "    </tr>\n",
       "    <tr>\n",
       "      <th>DEBUG:root:playout</th>\n",
       "      <td>nmcs-1</td>\n",
       "      <td>1984.693878</td>\n",
       "    </tr>\n",
       "    <tr>\n",
       "      <th>DEBUG:root:end playout negative</th>\n",
       "      <td>nmcs-1</td>\n",
       "      <td>2777.171429</td>\n",
       "    </tr>\n",
       "    <tr>\n",
       "      <th>DEBUG:root:end playout positive</th>\n",
       "      <td>nmcs-1</td>\n",
       "      <td>1.000000</td>\n",
       "    </tr>\n",
       "    <tr>\n",
       "      <th>DEBUG:root:playout</th>\n",
       "      <td>nrpa-1-100-heur</td>\n",
       "      <td>107.693878</td>\n",
       "    </tr>\n",
       "    <tr>\n",
       "      <th>DEBUG:root:end playout negative</th>\n",
       "      <td>nrpa-1-100-heur</td>\n",
       "      <td>137.578947</td>\n",
       "    </tr>\n",
       "    <tr>\n",
       "      <th>DEBUG:root:end playout positive</th>\n",
       "      <td>nrpa-1-100-heur</td>\n",
       "      <td>1.000000</td>\n",
       "    </tr>\n",
       "  </tbody>\n",
       "</table>\n",
       "</div>"
      ],
      "text/plain": [
       "                                          solver         mean\n",
       "log_type                                                     \n",
       "DEBUG:root:nmcs call                      nmcs-1  1985.693878\n",
       "DEBUG:root:assign                         nmcs-1  1984.693878\n",
       "DEBUG:root:playout                        nmcs-1  1984.693878\n",
       "DEBUG:root:end playout negative           nmcs-1  2777.171429\n",
       "DEBUG:root:end playout positive           nmcs-1     1.000000\n",
       "DEBUG:root:playout               nrpa-1-100-heur   107.693878\n",
       "DEBUG:root:end playout negative  nrpa-1-100-heur   137.578947\n",
       "DEBUG:root:end playout positive  nrpa-1-100-heur     1.000000"
      ]
     },
     "execution_count": 289,
     "metadata": {},
     "output_type": "execute_result"
    }
   ],
   "source": [
    "grouped.stack().reset_index().rename(columns = {'level_1':'log_type', 0:'mean'}).set_index('log_type')"
   ]
  },
  {
   "cell_type": "code",
   "execution_count": 290,
   "metadata": {},
   "outputs": [
    {
     "data": {
      "image/png": "[encoded data removed]",
      "text/plain": [
       "<Figure size 1080x360 with 1 Axes>"
      ]
     },
     "metadata": {
      "needs_background": "light"
     },
     "output_type": "display_data"
    }
   ],
   "source": [
    "plt.figure(figsize=(15,5))\n",
    "sns.barplot(x='log_type', y='sum', data=grouped.stack().reset_index().rename(columns = {'level_1':'log_type', 0:'sum'}), hue='solver')\n",
    "plt.ylabel('nb of calls')\n",
    "plt.title('Nb of calls for in the log, for problem instances solved by both solvers')\n",
    "\n",
    "plt.tight_layout()\n",
    "plt.savefig('log_calls_success_instances.png')\n",
    "plt.show()"
   ]
  },
  {
   "cell_type": "code",
   "execution_count": null,
   "metadata": {},
   "outputs": [],
   "source": []
  }
 ],
 "metadata": {
  "kernelspec": {
   "display_name": "Python 3",
   "language": "python",
   "name": "python3"
  },
  "language_info": {
   "codemirror_mode": {
    "name": "ipython",
    "version": 3
   },
   "file_extension": ".py",
   "mimetype": "text/x-python",
   "name": "python",
   "nbconvert_exporter": "python",
   "pygments_lexer": "ipython3",
   "version": "3.7.4"
  }
 },
 "nbformat": 4,
 "nbformat_minor": 4
}
