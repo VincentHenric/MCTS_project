{
 "cells": [
  {
   "cell_type": "code",
   "execution_count": 59,
   "metadata": {},
   "outputs": [],
   "source": [
    "import numpy as np\n",
    "import pandas as pd\n",
    "import matplotlib.pyplot as plt\n",
    "import json\n",
    "\n",
    "import os"
   ]
  },
  {
   "cell_type": "code",
   "execution_count": 103,
   "metadata": {},
   "outputs": [],
   "source": [
    "def get_dataframe(filename, path='results'):\n",
    "    with open(os.path.join(path,filename)) as file:\n",
    "        data = file.read()\n",
    "    filename_info = filename.split('.')[0].split('_')\n",
    "    df = pd.read_json(data[:-1].replace(\"'\", '\"').replace('True', '\"True\"').replace('False', '\"False\"'), lines=True)\n",
    "    df = df.replace({'solved': {'True': True, 'False': False}}).astype({'time':np.float32, 'solved':'bool'})\n",
    "    df['problem']=filename_info[-2]\n",
    "    return df\n",
    "\n",
    "def get_dataframes(path='results'):\n",
    "    filenames = os.listdir(path)\n",
    "    df = pd.concat([get_dataframe(filename, path) for filename in filenames], axis=0)\n",
    "    return df"
   ]
  },
  {
   "cell_type": "code",
   "execution_count": 104,
   "metadata": {},
   "outputs": [
    {
     "data": {
      "text/html": [
       "<div>\n",
       "<style scoped>\n",
       "    .dataframe tbody tr th:only-of-type {\n",
       "        vertical-align: middle;\n",
       "    }\n",
       "\n",
       "    .dataframe tbody tr th {\n",
       "        vertical-align: top;\n",
       "    }\n",
       "\n",
       "    .dataframe thead th {\n",
       "        text-align: right;\n",
       "    }\n",
       "</style>\n",
       "<table border=\"1\" class=\"dataframe\">\n",
       "  <thead>\n",
       "    <tr style=\"text-align: right;\">\n",
       "      <th></th>\n",
       "      <th>filename</th>\n",
       "      <th>time</th>\n",
       "      <th>solver</th>\n",
       "      <th>solved</th>\n",
       "      <th>problem</th>\n",
       "    </tr>\n",
       "  </thead>\n",
       "  <tbody>\n",
       "    <tr>\n",
       "      <th>0</th>\n",
       "      <td>nqueens_128</td>\n",
       "      <td>16.007700</td>\n",
       "      <td>nmcs-1</td>\n",
       "      <td>True</td>\n",
       "      <td>nqueens</td>\n",
       "    </tr>\n",
       "    <tr>\n",
       "      <th>1</th>\n",
       "      <td>nqueens_192</td>\n",
       "      <td>20.069571</td>\n",
       "      <td>nmcs-1</td>\n",
       "      <td>True</td>\n",
       "      <td>nqueens</td>\n",
       "    </tr>\n",
       "    <tr>\n",
       "      <th>2</th>\n",
       "      <td>nqueens_32</td>\n",
       "      <td>0.587450</td>\n",
       "      <td>nmcs-1</td>\n",
       "      <td>True</td>\n",
       "      <td>nqueens</td>\n",
       "    </tr>\n",
       "    <tr>\n",
       "      <th>3</th>\n",
       "      <td>nqueens_64</td>\n",
       "      <td>0.213520</td>\n",
       "      <td>nmcs-1</td>\n",
       "      <td>True</td>\n",
       "      <td>nqueens</td>\n",
       "    </tr>\n",
       "    <tr>\n",
       "      <th>4</th>\n",
       "      <td>nqueens_256</td>\n",
       "      <td>12.998340</td>\n",
       "      <td>nmcs-1</td>\n",
       "      <td>True</td>\n",
       "      <td>nqueens</td>\n",
       "    </tr>\n",
       "  </tbody>\n",
       "</table>\n",
       "</div>"
      ],
      "text/plain": [
       "      filename       time  solver  solved  problem\n",
       "0  nqueens_128  16.007700  nmcs-1    True  nqueens\n",
       "1  nqueens_192  20.069571  nmcs-1    True  nqueens\n",
       "2   nqueens_32   0.587450  nmcs-1    True  nqueens\n",
       "3   nqueens_64   0.213520  nmcs-1    True  nqueens\n",
       "4  nqueens_256  12.998340  nmcs-1    True  nqueens"
      ]
     },
     "execution_count": 104,
     "metadata": {},
     "output_type": "execute_result"
    }
   ],
   "source": [
    "df = get_dataframes(path='results')\n",
    "df.head()"
   ]
  },
  {
   "cell_type": "code",
   "execution_count": 96,
   "metadata": {},
   "outputs": [
    {
     "data": {
      "text/plain": [
       "nmcs-1                 90\n",
       "backtracking           90\n",
       "nrpa-1-100-heur        90\n",
       "nrpa-1-100-heur-old    82\n",
       "nmcs-2                  8\n",
       "Name: solver, dtype: int64"
      ]
     },
     "execution_count": 96,
     "metadata": {},
     "output_type": "execute_result"
    }
   ],
   "source": [
    "df['solver'].value_counts()"
   ]
  },
  {
   "cell_type": "code",
   "execution_count": 97,
   "metadata": {},
   "outputs": [
    {
     "data": {
      "text/plain": [
       "coloring              144\n",
       "sudoku                120\n",
       "nqueens-sym            32\n",
       "nqueens-sym-simple     32\n",
       "nqueens                32\n",
       "Name: problem, dtype: int64"
      ]
     },
     "execution_count": 97,
     "metadata": {},
     "output_type": "execute_result"
    }
   ],
   "source": [
    "df['problem'].value_counts()"
   ]
  },
  {
   "cell_type": "code",
   "execution_count": 98,
   "metadata": {},
   "outputs": [
    {
     "data": {
      "text/plain": [
       "filename     object\n",
       "time        float32\n",
       "solver       object\n",
       "solved         bool\n",
       "problem      object\n",
       "dtype: object"
      ]
     },
     "execution_count": 98,
     "metadata": {},
     "output_type": "execute_result"
    }
   ],
   "source": [
    "df.dtypes"
   ]
  },
  {
   "cell_type": "code",
   "execution_count": 105,
   "metadata": {},
   "outputs": [
    {
     "data": {
      "text/plain": [
       "<matplotlib.axes._subplots.AxesSubplot at 0x7f10b45b69d0>"
      ]
     },
     "execution_count": 105,
     "metadata": {},
     "output_type": "execute_result"
    },
    {
     "data": {
      "image/png": "[encoded data removed]",
      "text/plain": [
       "<Figure size 432x288 with 1 Axes>"
      ]
     },
     "metadata": {
      "needs_background": "light"
     },
     "output_type": "display_data"
    }
   ],
   "source": [
    "df.groupby(['problem', 'solver'])['solved'].mean().unstack().plot.bar()"
   ]
  },
  {
   "cell_type": "code",
   "execution_count": 106,
   "metadata": {},
   "outputs": [
    {
     "data": {
      "text/plain": [
       "<matplotlib.axes._subplots.AxesSubplot at 0x7f10b450f9d0>"
      ]
     },
     "execution_count": 106,
     "metadata": {},
     "output_type": "execute_result"
    },
    {
     "data": {
      "image/png": "[encoded data removed]",
      "text/plain": [
       "<Figure size 432x288 with 1 Axes>"
      ]
     },
     "metadata": {
      "needs_background": "light"
     },
     "output_type": "display_data"
    }
   ],
   "source": [
    "df.groupby(['problem', 'solver'])['time'].mean().unstack().plot.bar()"
   ]
  },
  {
   "cell_type": "code",
   "execution_count": 107,
   "metadata": {},
   "outputs": [
    {
     "data": {
      "text/plain": [
       "<matplotlib.legend.Legend at 0x7f10b443ca50>"
      ]
     },
     "execution_count": 107,
     "metadata": {},
     "output_type": "execute_result"
    },
    {
     "data": {
      "image/png": "[encoded data removed]",
      "text/plain": [
       "<Figure size 432x288 with 1 Axes>"
      ]
     },
     "metadata": {
      "needs_background": "light"
     },
     "output_type": "display_data"
    }
   ],
   "source": [
    "times_dist = df.groupby('solver')['time'].apply(list)\n",
    "times_dist.hist(bins = 10)\n",
    "plt.legend(times_dist.index)"
   ]
  },
  {
   "cell_type": "code",
   "execution_count": 102,
   "metadata": {},
   "outputs": [
    {
     "data": {
      "text/html": [
       "<div>\n",
       "<style scoped>\n",
       "    .dataframe tbody tr th:only-of-type {\n",
       "        vertical-align: middle;\n",
       "    }\n",
       "\n",
       "    .dataframe tbody tr th {\n",
       "        vertical-align: top;\n",
       "    }\n",
       "\n",
       "    .dataframe thead th {\n",
       "        text-align: right;\n",
       "    }\n",
       "</style>\n",
       "<table border=\"1\" class=\"dataframe\">\n",
       "  <thead>\n",
       "    <tr style=\"text-align: right;\">\n",
       "      <th></th>\n",
       "      <th>filename</th>\n",
       "      <th>time</th>\n",
       "      <th>solver</th>\n",
       "      <th>solved</th>\n",
       "      <th>problem</th>\n",
       "    </tr>\n",
       "  </thead>\n",
       "  <tbody>\n",
       "    <tr>\n",
       "      <th>0</th>\n",
       "      <td>nqueens_128</td>\n",
       "      <td>16.007700</td>\n",
       "      <td>nmcs-1</td>\n",
       "      <td>True</td>\n",
       "      <td>nqueens</td>\n",
       "    </tr>\n",
       "    <tr>\n",
       "      <th>1</th>\n",
       "      <td>nqueens_192</td>\n",
       "      <td>20.069571</td>\n",
       "      <td>nmcs-1</td>\n",
       "      <td>True</td>\n",
       "      <td>nqueens</td>\n",
       "    </tr>\n",
       "    <tr>\n",
       "      <th>2</th>\n",
       "      <td>nqueens_32</td>\n",
       "      <td>0.587450</td>\n",
       "      <td>nmcs-1</td>\n",
       "      <td>True</td>\n",
       "      <td>nqueens</td>\n",
       "    </tr>\n",
       "    <tr>\n",
       "      <th>3</th>\n",
       "      <td>nqueens_64</td>\n",
       "      <td>0.213520</td>\n",
       "      <td>nmcs-1</td>\n",
       "      <td>True</td>\n",
       "      <td>nqueens</td>\n",
       "    </tr>\n",
       "    <tr>\n",
       "      <th>4</th>\n",
       "      <td>nqueens_256</td>\n",
       "      <td>12.998340</td>\n",
       "      <td>nmcs-1</td>\n",
       "      <td>True</td>\n",
       "      <td>nqueens</td>\n",
       "    </tr>\n",
       "    <tr>\n",
       "      <th>...</th>\n",
       "      <td>...</td>\n",
       "      <td>...</td>\n",
       "      <td>...</td>\n",
       "      <td>...</td>\n",
       "      <td>...</td>\n",
       "    </tr>\n",
       "    <tr>\n",
       "      <th>3</th>\n",
       "      <td>nqueens_64</td>\n",
       "      <td>7.097340</td>\n",
       "      <td>nmcs-1</td>\n",
       "      <td>True</td>\n",
       "      <td>nqueens-sym</td>\n",
       "    </tr>\n",
       "    <tr>\n",
       "      <th>4</th>\n",
       "      <td>nqueens_256</td>\n",
       "      <td>300.033142</td>\n",
       "      <td>nmcs-1</td>\n",
       "      <td>False</td>\n",
       "      <td>nqueens-sym</td>\n",
       "    </tr>\n",
       "    <tr>\n",
       "      <th>5</th>\n",
       "      <td>nqueens_16</td>\n",
       "      <td>0.161070</td>\n",
       "      <td>nmcs-1</td>\n",
       "      <td>True</td>\n",
       "      <td>nqueens-sym</td>\n",
       "    </tr>\n",
       "    <tr>\n",
       "      <th>6</th>\n",
       "      <td>nqueens_96</td>\n",
       "      <td>45.135830</td>\n",
       "      <td>nmcs-1</td>\n",
       "      <td>True</td>\n",
       "      <td>nqueens-sym</td>\n",
       "    </tr>\n",
       "    <tr>\n",
       "      <th>7</th>\n",
       "      <td>nqueens_8</td>\n",
       "      <td>0.009390</td>\n",
       "      <td>nmcs-1</td>\n",
       "      <td>True</td>\n",
       "      <td>nqueens-sym</td>\n",
       "    </tr>\n",
       "  </tbody>\n",
       "</table>\n",
       "<p>360 rows × 5 columns</p>\n",
       "</div>"
      ],
      "text/plain": [
       "       filename        time  solver  solved      problem\n",
       "0   nqueens_128   16.007700  nmcs-1    True      nqueens\n",
       "1   nqueens_192   20.069571  nmcs-1    True      nqueens\n",
       "2    nqueens_32    0.587450  nmcs-1    True      nqueens\n",
       "3    nqueens_64    0.213520  nmcs-1    True      nqueens\n",
       "4   nqueens_256   12.998340  nmcs-1    True      nqueens\n",
       "..          ...         ...     ...     ...          ...\n",
       "3    nqueens_64    7.097340  nmcs-1    True  nqueens-sym\n",
       "4   nqueens_256  300.033142  nmcs-1   False  nqueens-sym\n",
       "5    nqueens_16    0.161070  nmcs-1    True  nqueens-sym\n",
       "6    nqueens_96   45.135830  nmcs-1    True  nqueens-sym\n",
       "7     nqueens_8    0.009390  nmcs-1    True  nqueens-sym\n",
       "\n",
       "[360 rows x 5 columns]"
      ]
     },
     "execution_count": 102,
     "metadata": {},
     "output_type": "execute_result"
    }
   ],
   "source": [
    "df"
   ]
  },
  {
   "cell_type": "code",
   "execution_count": null,
   "metadata": {},
   "outputs": [],
   "source": []
  }
 ],
 "metadata": {
  "kernelspec": {
   "display_name": "Python 3",
   "language": "python",
   "name": "python3"
  },
  "language_info": {
   "codemirror_mode": {
    "name": "ipython",
    "version": 3
   },
   "file_extension": ".py",
   "mimetype": "text/x-python",
   "name": "python",
   "nbconvert_exporter": "python",
   "pygments_lexer": "ipython3",
   "version": "3.7.4"
  }
 },
 "nbformat": 4,
 "nbformat_minor": 4
}
